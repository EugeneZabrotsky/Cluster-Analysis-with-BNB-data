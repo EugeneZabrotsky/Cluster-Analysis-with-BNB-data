{
 "cells": [
  {
   "cell_type": "code",
   "execution_count": null,
   "metadata": {
    "_cell_guid": "b1076dfc-b9ad-4769-8c92-a6c4dae69d19",
    "_uuid": "8f2839f25d086af736a60e9eeb907d3b93b6e0e5",
    "collapsed": true
   },
   "outputs": [],
   "source": [
    "# This Python 3 environment comes with many helpful analytics libraries installed\n",
    "# It is defined by the kaggle/python docker image: https://github.com/kaggle/docker-python\n",
    "# For example, here's several helpful packages to load in \n",
    "\n",
    "import numpy as np # linear algebra\n",
    "np.random.seed(42)\n",
    "import pandas as pd # data processing, CSV file I/O (e.g. pd.read_csv)\n",
    "\n",
    "# Input data files are available in the \"../input/\" directory.\n",
    "# For example, running this (by clicking run or pressing Shift+Enter) will list the files in the input directory\n",
    "\n",
    "import os\n",
    "print(os.listdir(\"../input\"))\n",
    "\n",
    "import numpy as np\n",
    "import pandas as pd\n",
    "import matplotlib.pyplot as plt\n",
    "from sklearn import decomposition\n",
    "import seaborn as sns\n",
    "color = sns.color_palette()\n",
    "import plotly.offline as py\n",
    "py.init_notebook_mode(connected=True)\n",
    "from plotly.offline import init_notebook_mode, iplot\n",
    "init_notebook_mode(connected=True)\n",
    "import plotly.graph_objs as go\n",
    "import plotly.offline as offline\n",
    "offline.init_notebook_mode()\n",
    "%matplotlib inline\n",
    "\n",
    "from sklearn.preprocessing import StandardScaler\n",
    "from sklearn.cluster import DBSCAN\n",
    "\n",
    "\n",
    "pd.set_option('display.max_columns', 500)\n",
    "pd.set_option('display.width', 1000)\n",
    "pd.set_option('display.max_rows', 500)\n",
    "\n",
    "# Any results you write to the current directory are saved as output."
   ]
  },
  {
   "cell_type": "code",
   "execution_count": null,
   "metadata": {
    "_uuid": "2fefdfbefcc4497f8b5a3aa7c2ae2c1612afedf1",
    "collapsed": true
   },
   "outputs": [],
   "source": [
    "is_payroll = pd.read_csv('../input/is_payroll.txt',sep = ';', encoding='utf-8')"
   ]
  },
  {
   "cell_type": "code",
   "execution_count": null,
   "metadata": {
    "_uuid": "a89a3de4b8281bba0c32f2a1cd21ac021ec2ed2c",
    "collapsed": true
   },
   "outputs": [],
   "source": [
    "is_payroll.head()"
   ]
  },
  {
   "cell_type": "code",
   "execution_count": null,
   "metadata": {
    "_cell_guid": "79c7e3d0-c299-4dcb-8224-4455121ee9b0",
    "_uuid": "d629ff2d2480ee46fbb7e2d37f6b5fab8052498a",
    "collapsed": true
   },
   "outputs": [],
   "source": [
    "client_data = pd.read_csv('../input/clients.csv',encoding='utf-8')\n",
    "client_data.head()"
   ]
  },
  {
   "cell_type": "code",
   "execution_count": null,
   "metadata": {
    "_uuid": "ef41f351fe2ec497e98aa7e0bc6caf95ecedaf70",
    "collapsed": true
   },
   "outputs": [],
   "source": [
    "client_data"
   ]
  },
  {
   "cell_type": "code",
   "execution_count": null,
   "metadata": {
    "_uuid": "712f66c5806d59aa98875e40bae8362b28275e98",
    "collapsed": true
   },
   "outputs": [],
   "source": [
    "new_expenses = pd.read_csv('../input/clients_new1.txt',encoding='utf-8', delimiter='\\t')\n",
    "client_data = client_data.set_index('CLIENT_ID')\n",
    "new_expenses = new_expenses.set_index('Client_ID')\n",
    "result = pd.concat([client_data, new_expenses], axis=1, join_axes=[client_data.index])\n",
    "for col in new_expenses.columns.values:\n",
    "    result[col] = result[col] * result['SUM_AMOUNT'] / 100"
   ]
  },
  {
   "cell_type": "code",
   "execution_count": null,
   "metadata": {
    "_uuid": "19e7699a58af7e731afbc138c5d01f54e7914430",
    "collapsed": true
   },
   "outputs": [],
   "source": [
    "result.head().T"
   ]
  },
  {
   "cell_type": "code",
   "execution_count": null,
   "metadata": {
    "_uuid": "23d05d3c521a85cb41b1f9f574a16615e30c552f",
    "collapsed": true
   },
   "outputs": [],
   "source": [
    "new_expenses.columns.values"
   ]
  },
  {
   "cell_type": "code",
   "execution_count": null,
   "metadata": {
    "_uuid": "868e6a511f55e63bdfda195a99567d7cb6fcb796",
    "collapsed": true
   },
   "outputs": [],
   "source": [
    "chosen_cols = []\n",
    "# chosen_cols = ['SUM_AMOUNT',\n",
    "#                'MAX_CARD_LVL',\n",
    "#                'GENDER',\n",
    "#                'NUM_TRANS',\n",
    "#                'NUM_FOREIGN_COUTRIES',\n",
    "#                'SUM_AMOUNT_FOREIGN',\n",
    "#                'SUM_AMOUNT_BLR',\n",
    "#                'AGE',\n",
    "#                'SUM_AMOUNT_CREDIT_CARD',\n",
    "#                'SUM_AMOUNT_WEEKEND',\n",
    "#                'IS_RESIDENT',\n",
    "#               ]\n",
    "chosen_cols.extend(new_expenses.columns.values)"
   ]
  },
  {
   "cell_type": "code",
   "execution_count": null,
   "metadata": {
    "_uuid": "13079dde49da4becc13382579b4bce24d58f2d93",
    "collapsed": true
   },
   "outputs": [],
   "source": [
    "chosen_cols"
   ]
  },
  {
   "cell_type": "code",
   "execution_count": null,
   "metadata": {
    "_uuid": "70f71320f37ae1757fe8a27c673170cccb21a72a",
    "collapsed": true
   },
   "outputs": [],
   "source": [
    "client_data_choosen = result[chosen_cols]"
   ]
  },
  {
   "cell_type": "code",
   "execution_count": null,
   "metadata": {
    "_uuid": "bdd59f1e634be95b06a6654fa1b32a5d37b923e8",
    "collapsed": true
   },
   "outputs": [],
   "source": [
    "client_data_choosen.info()"
   ]
  },
  {
   "cell_type": "code",
   "execution_count": null,
   "metadata": {
    "_uuid": "877bac3a9dc0d514b8c6028e454dc3fea4d5c01d",
    "collapsed": true
   },
   "outputs": [],
   "source": [
    "scaler = StandardScaler()\n",
    "scaler.fit(client_data_choosen)\n",
    "scaled_client_data=scaler.transform(client_data_choosen)"
   ]
  },
  {
   "cell_type": "code",
   "execution_count": null,
   "metadata": {
    "_uuid": "be37689d418e06926a27cd00fee7c1a61e62f10c",
    "collapsed": true
   },
   "outputs": [],
   "source": [
    "# pca = decomposition.PCA(n_components = 19, random_state = 42).fit(scaled_client_data)\n",
    "pca = decomposition.PCA(n_components = 11, random_state = 42).fit(scaled_client_data)\n",
    "\n",
    "\n",
    "plt.figure(figsize=(10,7))\n",
    "plt.plot(np.cumsum(pca.explained_variance_ratio_), color='k', lw=2)\n",
    "plt.xlabel('Number of components')\n",
    "plt.ylabel('Total explained variance')\n",
    "plt.xlim(0, 60)\n",
    "plt.yticks(np.arange(0, 1.1, 0.1))\n",
    "plt.axhline(0.9, c='r')\n",
    "plt.show();\n",
    "np.cumsum(pca.explained_variance_ratio_)"
   ]
  },
  {
   "cell_type": "code",
   "execution_count": null,
   "metadata": {
    "_uuid": "682d365a4f751acb36a19391e14719fda476927c",
    "collapsed": true
   },
   "outputs": [],
   "source": [
    "clients_pca = pca.transform(scaled_client_data)"
   ]
  },
  {
   "cell_type": "code",
   "execution_count": null,
   "metadata": {
    "_uuid": "467e477fb5e481dc26ce39a40328db8b4ae63653",
    "collapsed": true
   },
   "outputs": [],
   "source": [
    "clients_pca"
   ]
  },
  {
   "cell_type": "code",
   "execution_count": null,
   "metadata": {
    "_uuid": "0f14df772d26fe5765bd8bbc4db0bac3ba572384",
    "collapsed": true
   },
   "outputs": [],
   "source": [
    "%%time\n",
    "\n",
    "from sklearn.manifold import TSNE\n",
    "tsne = TSNE(random_state = 42)\n",
    "\n",
    "X_tsne = tsne.fit_transform(clients_pca)\n"
   ]
  },
  {
   "cell_type": "code",
   "execution_count": null,
   "metadata": {
    "_uuid": "5728bd4a70de78fd0dcbd821a64fd1615887e3a7",
    "collapsed": true
   },
   "outputs": [],
   "source": [
    "chosen_cols"
   ]
  },
  {
   "cell_type": "code",
   "execution_count": null,
   "metadata": {
    "_uuid": "807f45da72ef7be7410d518f125b8aabc62d425b",
    "collapsed": true
   },
   "outputs": [],
   "source": [
    "plt.figure(figsize=(18,18))\n",
    "plt.scatter(X_tsne[:, 0], X_tsne[:, 1], c = result['Самолеты. поезда. автобусы'] > 1000,\n",
    "            edgecolor='none', s=40,\n",
    "            cmap=plt.cm.get_cmap('nipy_spectral', 10))\n",
    "plt.colorbar()"
   ]
  },
  {
   "cell_type": "code",
   "execution_count": null,
   "metadata": {
    "_uuid": "3ce6274065224d046367a7e37dbc9ea188f087c7",
    "collapsed": true,
    "scrolled": false
   },
   "outputs": [],
   "source": [
    "# epses = [1, 1.2, 1.5, 1.7, 1.9, 2.1, 2.5, 3.7]\n",
    "# # min_samples_range = [3, 4, 5, 6, 7]\n",
    "# epses = [0.5, 0.9, 1.2, 1.5]\n",
    "# min_samples_range = [7, 10, 15, 23, 33, 50, 80, 300]\n",
    "\n",
    "# epses = np.linspace(0.3, 2, 25)\n",
    "# min_samples_range = [i for i in range(4, 33)]\n",
    "# for eps in epses:\n",
    "#     for min_samples in min_samples_range:\n",
    "#         classes = DBSCAN(eps = eps, min_samples = min_samples).fit_predict(X_tsne)\n",
    "#         num_of_classes = len(np.unique(classes))\n",
    "#         if (num_of_classes > 100) and (num_of_classes < 200) and (sum(classes == -1) < 4000):\n",
    "#             plt.figure(figsize=(12,12))\n",
    "#             plt.scatter(X_tsne[:, 0], X_tsne[:, 1], c = classes,\n",
    "#                         edgecolor='none', s=40,\n",
    "#                         cmap=plt.cm.get_cmap('nipy_spectral', 10))\n",
    "#             plt.title(f'EPS: {eps} MIN_SAMPLES: {min_samples} NUM OF CLASSES: {num_of_classes}')\n",
    "#             plt.show()"
   ]
  },
  {
   "cell_type": "code",
   "execution_count": null,
   "metadata": {
    "_uuid": "cb8c0935d224162d0bb1a98faf31a6e8d170718b",
    "collapsed": true
   },
   "outputs": [],
   "source": [
    "classes = DBSCAN(eps = 1.7, min_samples = 10).fit_predict(X_tsne)\n",
    "num_of_classes = len(np.unique(classes))\n",
    "plt.figure(figsize=(12,12))\n",
    "plt.scatter(X_tsne[:, 0], X_tsne[:, 1], c = classes,\n",
    "            edgecolor='none', s=40,\n",
    "            cmap=plt.cm.get_cmap('nipy_spectral', 10))\n",
    "plt.title(f'EPS: {1.7} MIN_SAMPLES: {20} NUM OF CLASSES: {num_of_classes}')\n",
    "plt.show()"
   ]
  },
  {
   "cell_type": "code",
   "execution_count": null,
   "metadata": {
    "_uuid": "e3b168bd8fc98eff75021729879c56277f0a24d2",
    "collapsed": true
   },
   "outputs": [],
   "source": [
    "pd.DataFrame(X_tsne).to_csv('X_tsne.csv')\n",
    "pd.DataFrame(classes).to_csv('classes.csv')"
   ]
  },
  {
   "cell_type": "code",
   "execution_count": null,
   "metadata": {
    "_uuid": "d91caf2be1bf1237bfc27375ee0e8791a285e97d",
    "collapsed": true
   },
   "outputs": [],
   "source": [
    "len(np.unique(classes))"
   ]
  },
  {
   "cell_type": "code",
   "execution_count": null,
   "metadata": {
    "_uuid": "377bfeb72cd725865427d6615905104ce4530a33",
    "collapsed": true
   },
   "outputs": [],
   "source": [
    "mean_client = np.mean(client_data, axis = 0)"
   ]
  },
  {
   "cell_type": "code",
   "execution_count": null,
   "metadata": {
    "_uuid": "69f02c637de6fcf025349d7ffb8a09bf6f3c7765",
    "collapsed": true
   },
   "outputs": [],
   "source": [
    "un_classes = np.unique(classes)\n",
    "top_classes = sorted(un_classes, key = lambda x: sum((classes == x)*1), reverse = True)"
   ]
  },
  {
   "cell_type": "code",
   "execution_count": null,
   "metadata": {
    "_uuid": "cbf8a84cd9ac5b2138bbaf6b8b9fa81dd7295af1",
    "collapsed": true
   },
   "outputs": [],
   "source": [
    "plt.scatter(X_tsne[:, 0], X_tsne[:, 1], c = client_data['SUM_AMOUNT'] > 10000,\n",
    "            edgecolor='none', s=40,\n",
    "            cmap=plt.cm.get_cmap('nipy_spectral', 10))\n",
    "plt.show()"
   ]
  },
  {
   "cell_type": "code",
   "execution_count": null,
   "metadata": {
    "_uuid": "d66fbe5a00f905959489bbd5e4c7df2b9547efe4",
    "collapsed": true
   },
   "outputs": [],
   "source": [
    "# plt.figure(figsize=(30, 70))\n",
    "# fig, axes = plt.subplots(ncols=5, nrows = 10, figsize=(40, 100))\n",
    "# for i, c in enumerate(top_classes[:50]):\n",
    "#     class_i = c\n",
    "#     print (c, ': ',sum((classes == class_i)*1))\n",
    "#     axes[i//5,i%5].scatter(X_tsne[:, 0], X_tsne[:, 1], c = 1 - (classes == class_i),\n",
    "#                 edgecolor='none', s=40,\n",
    "#                 cmap=plt.cm.get_cmap('nipy_spectral', 10))\n",
    "#     axes[i//5,i%5].set_title(c, fontsize = 17)\n",
    "# plt.show()"
   ]
  },
  {
   "cell_type": "code",
   "execution_count": null,
   "metadata": {
    "_uuid": "b278265da22b3ae07fe3f443824abc92aea80b78",
    "collapsed": true
   },
   "outputs": [],
   "source": [
    "# for k in top_classes: \n",
    "#     print (\"CLASS NUMBER \" + str(k))\n",
    "#     for i in range(len(client_data.columns)):\n",
    "#         if 'PERCENTAGE' not in client_data.columns[i]:\n",
    "#             print (str(client_data.columns[i]).rjust(60), '  ', list(zip(client_data[classes == k].mean(), mean_client))[i])\n",
    "#     print ('------------')\n",
    "    "
   ]
  },
  {
   "cell_type": "code",
   "execution_count": null,
   "metadata": {
    "_uuid": "121a33ee42d409e18c11e097fa0e06256b291700",
    "collapsed": true
   },
   "outputs": [],
   "source": [
    "exp_cols = []\n",
    "for col in new_expenses.columns.values:\n",
    "    if ('PERCENTAGE' not in col) and str.upper(col) != col:\n",
    "        exp_cols.append(col)"
   ]
  },
  {
   "cell_type": "code",
   "execution_count": null,
   "metadata": {
    "_uuid": "b8c80330eca577b74dfdbeb149495a0c0c1d1a6d",
    "collapsed": true,
    "scrolled": true
   },
   "outputs": [],
   "source": [
    "exp_cols"
   ]
  },
  {
   "cell_type": "code",
   "execution_count": null,
   "metadata": {
    "_uuid": "3b65dae7c95b17cfe48d7643a1deb96e333e63b8",
    "collapsed": true
   },
   "outputs": [],
   "source": [
    "client_data_copy = client_data\n",
    "client_data = result\n"
   ]
  },
  {
   "cell_type": "code",
   "execution_count": null,
   "metadata": {
    "_uuid": "36a7ce731a5538a99fb64e95fd0ea3496c2e43dd",
    "collapsed": true
   },
   "outputs": [],
   "source": [
    "exp_cols = sorted(exp_cols, key = lambda x: np.mean(client_data[exp_cols], axis = 0)[x], reverse = True)"
   ]
  },
  {
   "cell_type": "code",
   "execution_count": null,
   "metadata": {
    "_uuid": "e87d20bdde1c27439e974a7af65ef3977ac7a387",
    "collapsed": true
   },
   "outputs": [],
   "source": [
    "expenses = np.mean(client_data[exp_cols], axis = 0)"
   ]
  },
  {
   "cell_type": "code",
   "execution_count": null,
   "metadata": {
    "_uuid": "ac5bb0bd44f536194971bea7e4583738b5bd79cf",
    "collapsed": true
   },
   "outputs": [],
   "source": [
    "def checker(cols):\n",
    "    new_cols =[]\n",
    "    for col in cols:\n",
    "        if 'SUM_AMOUNT_IF_' in col:\n",
    "            col = col[14:]\n",
    "        if 'cloth' in col:\n",
    "            col = 'clothes'\n",
    "        new_cols.append(col)\n",
    "    return new_cols"
   ]
  },
  {
   "cell_type": "code",
   "execution_count": null,
   "metadata": {
    "_uuid": "46b3cd0fdcab595ceb7e8611bf18c1a524f55c43",
    "collapsed": true
   },
   "outputs": [],
   "source": [
    "def build_exp_pie(expenses = expenses):\n",
    "    temp = expenses\n",
    "    labels = checker(temp.index)\n",
    "    sizes = (temp / temp.sum())*100\n",
    "    trace = go.Pie(labels=labels, values=sizes, hoverinfo='label+percent')\n",
    "    layout = go.Layout(title='Распределение трат')\n",
    "    data = [trace]\n",
    "    fig = go.Figure(data=data, layout=layout)\n",
    "    py.iplot(fig)"
   ]
  },
  {
   "cell_type": "code",
   "execution_count": null,
   "metadata": {
    "_uuid": "f4185aa2ebbcd9b7e8584d2f83542378d76c99f0",
    "collapsed": true
   },
   "outputs": [],
   "source": [
    "labels_exp = checker(np.mean(client_data[exp_cols], axis = 0).index)"
   ]
  },
  {
   "cell_type": "code",
   "execution_count": null,
   "metadata": {
    "_uuid": "876af81690eb984e5df54ab1b1de22d5c6ab964b",
    "collapsed": true
   },
   "outputs": [],
   "source": []
  },
  {
   "cell_type": "code",
   "execution_count": null,
   "metadata": {
    "_uuid": "5538c8a2f547fe67f040be99b667baa21ea3d100",
    "collapsed": true
   },
   "outputs": [],
   "source": [
    "def plot_expenses(class_i = 0, exp_cols = exp_cols):\n",
    "    exp_cols_copy = exp_cols\n",
    "    def temp_plot(start, end, exp_cols = exp_cols_copy):\n",
    "        plt.figure(figsize = (12,2))\n",
    "        labels_exp = checker(np.mean(client_data[exp_cols], axis = 0).index)\n",
    "        exp_cols = exp_cols[start:end]\n",
    "        plt.bar(np.arange(len(exp_cols)) * 3, np.mean(client_data[exp_cols], axis = 0), width = 1.1)\n",
    "        plt.bar(np.arange(len(exp_cols)) * 3 + 1.1, np.mean(client_data[classes == class_i][exp_cols], axis = 0), width = 1.1)\n",
    "        plt.xticks(np.arange(len(exp_cols)) * 3, checker(np.mean(client_data[exp_cols], axis = 0).index), fontsize = 9, rotation = 40)\n",
    "        plt.legend(['Средний Клиент', 'Портрет человека в группе'], fontsize = 12)\n",
    "        plt.show()\n",
    "    temp_plot(0, 6)\n",
    "    temp_plot(6, len(exp_cols_copy))    "
   ]
  },
  {
   "cell_type": "code",
   "execution_count": null,
   "metadata": {
    "_uuid": "2a534119248b4cb4ccebffe36306dc7a007bcae4",
    "collapsed": true
   },
   "outputs": [],
   "source": [
    "np.mean(result[classes == top_classes[5]]['IS_RESIDENT'])"
   ]
  },
  {
   "cell_type": "code",
   "execution_count": null,
   "metadata": {
    "_uuid": "e5132b3f5e6c31d0ebbb31f6f967912ace3e5b3d",
    "collapsed": true,
    "scrolled": false
   },
   "outputs": [],
   "source": [
    "for i in range(10):\n",
    "    plot_expenses(top_classes[i])\n",
    "    "
   ]
  },
  {
   "cell_type": "code",
   "execution_count": null,
   "metadata": {
    "_uuid": "28e28c4a4e6a1c48aae2fa37a5fec15bcc7dd728",
    "collapsed": true
   },
   "outputs": [],
   "source": [
    "def checker_reg(cols):\n",
    "    mapka = {'MEAN_AMOUNT': 'Средний Чек',\n",
    "            'SUM_AMOUNT': 'Сумма Всех Транзакций',\n",
    "            \"SUM_AMOUNT_BLR\": 'Сумма потраченных денег в Беларуси',\n",
    "            'SUM_AMOUNT_FOREIGN': 'Сумма потраченных денег за границей',\n",
    "            'NUM_TRANS': 'Количество транзакий',\n",
    "            'MAX_CARD_LVL': \"Максимальный уровень карточки (от 1 до 7)\",\n",
    "            'NUM_COUNTRIES': 'Количество стран, в которых были совершены транзакции'}\n",
    "    cols_new = list(map(lambda x: mapka[x], cols))\n",
    "    return cols_new"
   ]
  },
  {
   "cell_type": "code",
   "execution_count": null,
   "metadata": {
    "_uuid": "018ca3e79b1fed08bca104aea98946d38daf9aff",
    "collapsed": true
   },
   "outputs": [],
   "source": [
    "def show_comparison(class_i):\n",
    "    def temp_show(to_compare, figsize = (10, 4), class_i = class_i):\n",
    "        exp_cols = to_compare\n",
    "        mean_client = np.mean(client_data, axis = 0)\n",
    "        our_client = np.mean(client_data[classes == 1], axis = 0)\n",
    "\n",
    "        plt.figure(figsize = (20,7))\n",
    "        labels_exp = checker_reg(to_compare)\n",
    "        exp_cols_copy = exp_cols\n",
    "        plt.barh(np.arange(len(exp_cols)) * 3, np.mean(client_data[exp_cols], axis = 0), height = 1.1)\n",
    "        plt.barh(np.arange(len(exp_cols)) * 3 + 1.1, np.mean(client_data[classes == class_i][exp_cols], axis = 0), height = 1.1)\n",
    "        plt.yticks(np.arange(len(exp_cols)) * 3, labels_exp, fontsize = 16, rotation = 0)\n",
    "        plt.legend(['Средний клиент', 'Портрет Клиента в группе'], fontsize = 20)\n",
    "        plt.show()\n",
    "    to_compare = ['MEAN_AMOUNT', 'SUM_AMOUNT', 'SUM_AMOUNT_BLR', 'SUM_AMOUNT_FOREIGN', 'NUM_TRANS'][::-1]\n",
    "    temp_show(to_compare)\n",
    "    to_compare = ['MAX_CARD_LVL', 'NUM_COUNTRIES'][::-1]\n",
    "    temp_show(to_compare)"
   ]
  },
  {
   "cell_type": "code",
   "execution_count": null,
   "metadata": {
    "_uuid": "360e3f7e73efbbd5bad796cc7946a392ed15a2c6",
    "collapsed": true
   },
   "outputs": [],
   "source": [
    "show_comparison(1)"
   ]
  },
  {
   "cell_type": "code",
   "execution_count": null,
   "metadata": {
    "_uuid": "43c5992e305ddea68a0c27e8e47e4b56c1e88813",
    "collapsed": true
   },
   "outputs": [],
   "source": [
    "def show_gender(class_i):\n",
    "    labels = ['MALE', 'FEMALE']\n",
    "    sizes = [np.mean(client_data[classes == class_i], axis = 0)['GENDER'] * 100, 0]\n",
    "    sizes[1] = 100-sizes[0]\n",
    "    trace = go.Pie(labels=labels, values=sizes, hoverinfo='label+percent')\n",
    "    layout = go.Layout(title='Соотношение полов в группе', font = ({'size': 22}))\n",
    "    data = [trace]\n",
    "    fig = go.Figure(data=data, layout=layout)\n",
    "    py.iplot(fig)"
   ]
  },
  {
   "cell_type": "code",
   "execution_count": null,
   "metadata": {
    "_uuid": "eaf9b5d297c4cccbf58d6c5e611873aaae12bf7c",
    "collapsed": true
   },
   "outputs": [],
   "source": [
    "show_gender(1)\n"
   ]
  },
  {
   "cell_type": "code",
   "execution_count": null,
   "metadata": {
    "_uuid": "90403015037a2c2fc80477b9cd731439ee65ab89",
    "collapsed": true
   },
   "outputs": [],
   "source": [
    "def show_client_info(class_i):\n",
    "    print ('СРЕДНИЙ ВОЗРАСТ: ', np.mean(client_data[classes == class_i], axis = 0)['AGE'])\n",
    "    print ('КОЛИЧЕСТВО ЧЕЛОВЕК В ГРУППЕ: ', sum((classes == class_i)*1))\n",
    "    plt.figure(figsize=(9,9))\n",
    "    plt.scatter(X_tsne[:, 0], X_tsne[:, 1], c = classes == class_i,\n",
    "            edgecolor='none', s=40,\n",
    "            cmap=plt.cm.get_cmap('nipy_spectral', 10))\n",
    "    show_gender(class_i)\n",
    "    plot_expenses(class_i)\n",
    "    show_comparison(class_i)"
   ]
  },
  {
   "cell_type": "code",
   "execution_count": null,
   "metadata": {
    "_uuid": "794ef82ad1a05d14860a723a65d037081b9e71ff",
    "collapsed": true,
    "scrolled": false
   },
   "outputs": [],
   "source": [
    "for i in range(10):\n",
    "    show_client_info(top_classes[i])"
   ]
  },
  {
   "cell_type": "code",
   "execution_count": null,
   "metadata": {
    "_uuid": "aeb8471a97397a76c234eed7fff1aa5e62aedd18",
    "collapsed": true
   },
   "outputs": [],
   "source": []
  },
  {
   "cell_type": "code",
   "execution_count": null,
   "metadata": {
    "_uuid": "8ee337f8dd432b8b40a0942f69d10ea82ea3be63",
    "collapsed": true
   },
   "outputs": [],
   "source": []
  }
 ],
 "metadata": {
  "kernelspec": {
   "display_name": "Python 3",
   "language": "python",
   "name": "python3"
  },
  "language_info": {
   "codemirror_mode": {
    "name": "ipython",
    "version": 3
   },
   "file_extension": ".py",
   "mimetype": "text/x-python",
   "name": "python",
   "nbconvert_exporter": "python",
   "pygments_lexer": "ipython3",
   "version": "3.6.5"
  }
 },
 "nbformat": 4,
 "nbformat_minor": 1
}
